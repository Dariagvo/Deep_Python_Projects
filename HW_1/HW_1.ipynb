{
 "cells": [
  {
   "cell_type": "markdown",
   "metadata": {
    "id": "ARoAqlMbArNx"
   },
   "source": [
    "# Домашнее задание 1\n",
    "\n",
    "**Выполнил:** Гвоздева Дарья\n",
    "\n",
    "**На сколько выполнил:** <Укажите, на сколько баллов по вашему мнению вы сделали>"
   ]
  },
  {
   "cell_type": "markdown",
   "metadata": {
    "id": "V9LS6Z01Dcsq"
   },
   "source": [
    "**Правила игры:**\n",
    "\n",
    "* возле каждой задачи указано число баллов (в сококупности можно получить 10 баллов)\n",
    "\n",
    "* дополнительные задачи выделены звездочкой (также указано число баллов). Данные баллы можно будет использовать для улучшения результата за любое домашнее задание\n",
    "\n",
    "* все подсчеты необходимо делать с помощью pandas-numpy (использовать как можно меньше циклов, за использование циклов, где это не требуются, будем штрафовать)\n",
    "\n",
    "* для визуализации можно использовать matplotlib-seaborn-plotly (учтите, что все графики должны выглядеть опрятно, иметь название-подписи, за нечитабельные графики будем штрафовать)\n",
    "\n",
    "* возможно, что в данных есть пустоты и невалидные значения. Перед началом любой работы необходимо исследовать, и если такие есть, убрать их\n",
    "\n",
    "* соблюдайте чистоту кода: переменные должны быть осмысленными, не повторяйтесь, если в этом нет необходимости (иначе используйте функции). Чем чище код - тем проще нам поставить вам хорошую оценку :)\n",
    "\n",
    "* общая рекомендация: на вопросы со звездочкой отвечать в самом конце, возможно, будет проще)"
   ]
  },
  {
   "cell_type": "markdown",
   "metadata": {
    "id": "7IJVSWwiA3j5"
   },
   "source": [
    "## Данные "
   ]
  },
  {
   "cell_type": "markdown",
   "metadata": {
    "id": "TBeriAVkA5uJ"
   },
   "source": [
    "В этом домашнем задании вам придется оказаться на месте аналитика в бразильском маркетплейсе [Olist](https://olist.com/pt-br/). Вам необходимо исследовать данные и на их основании сделать выводы, которые помогут бизнесу расцветать!\n",
    "\n",
    "Данные находятся тут: (будет ссылка)"
   ]
  },
  {
   "cell_type": "markdown",
   "metadata": {
    "id": "KKjQDN3VDDGa"
   },
   "source": [
    "Ван дано 9 датасетов, которые содержат в себе все данные по 100 000 заказам со всей Бразилии. Чтобы облегчить вам жизнь, вот связи по этим датасетам (файл product_category_name_translation является переводом названий категорий с бразильского на английский)"
   ]
  },
  {
   "cell_type": "markdown",
   "metadata": {
    "id": "cKOQJO1_C9MA"
   },
   "source": [
    "![](https://i.imgur.com/HRhd2Y0.png)"
   ]
  },
  {
   "cell_type": "markdown",
   "metadata": {
    "id": "Hsz3LJm5Dzv3"
   },
   "source": [
    "Ну что же, начнем, пожалуй!"
   ]
  },
  {
   "cell_type": "code",
   "execution_count": null,
   "metadata": {
    "colab": {
     "base_uri": "https://localhost:8080/"
    },
    "id": "nwnbyJNeWipL",
    "outputId": "658e9348-52bc-4ad4-dd15-dc40e808d3cc"
   },
   "outputs": [
    {
     "name": "stdout",
     "output_type": "stream",
     "text": [
      "Looking in indexes: https://pypi.org/simple, https://us-python.pkg.dev/colab-wheels/public/simple/\n",
      "Requirement already satisfied: python-dateutil in /usr/local/lib/python3.7/dist-packages (2.8.2)\n",
      "Requirement already satisfied: six>=1.5 in /usr/local/lib/python3.7/dist-packages (from python-dateutil) (1.15.0)\n"
     ]
    }
   ],
   "source": [
    "!pip install python-dateutil"
   ]
  },
  {
   "cell_type": "code",
   "execution_count": null,
   "metadata": {
    "id": "6buJ5UBqWojP"
   },
   "outputs": [],
   "source": [
    "import numpy as np\n",
    "import pandas as pd\n",
    "import numpy.linalg as lin\n",
    "import scipy.stats as st\n",
    "import scipy.sparse as sp\n",
    "import matplotlib.pyplot as plt\n",
    "import dateutil as dt\n",
    "import datetime as datetime"
   ]
  },
  {
   "cell_type": "code",
   "execution_count": null,
   "metadata": {
    "colab": {
     "base_uri": "https://localhost:8080/"
    },
    "id": "741su-LiW2wh",
    "outputId": "40e3afa7-0a14-4c5f-c811-4c737d20a2a6"
   },
   "outputs": [
    {
     "name": "stdout",
     "output_type": "stream",
     "text": [
      "--2022-10-01 11:50:44--  https://drive.google.com/file/d/1NctUmJMx5s8wVEr4FKPgP6PCYnAeLW7W/view?usp=sharing\n",
      "Resolving drive.google.com (drive.google.com)... 173.194.214.100, 173.194.214.101, 173.194.214.139, ...\n",
      "Connecting to drive.google.com (drive.google.com)|173.194.214.100|:443... connected.\n",
      "HTTP request sent, awaiting response... 200 OK\n",
      "Length: unspecified [text/html]\n",
      "Saving to: ‘view?usp=sharing’\n",
      "\n",
      "\rview?usp=sharing        [<=>                 ]       0  --.-KB/s               \rview?usp=sharing        [ <=>                ]  66.05K  --.-KB/s    in 0.001s  \n",
      "\n",
      "2022-10-01 11:50:44 (87.9 MB/s) - ‘view?usp=sharing’ saved [67640]\n",
      "\n"
     ]
    }
   ],
   "source": [
    "!wget https://drive.google.com/file/d/1NctUmJMx5s8wVEr4FKPgP6PCYnAeLW7W/view?usp=sharing"
   ]
  },
  {
   "cell_type": "code",
   "execution_count": null,
   "metadata": {
    "colab": {
     "base_uri": "https://localhost:8080/"
    },
    "id": "5487WF55W-bT",
    "outputId": "7fc24798-8932-4e77-ca92-421945a29c8f"
   },
   "outputs": [
    {
     "name": "stdout",
     "output_type": "stream",
     "text": [
      "Archive:  archive.zip\n",
      "  End-of-central-directory signature not found.  Either this file is not\n",
      "  a zipfile, or it constitutes one disk of a multi-part archive.  In the\n",
      "  latter case the central directory and zipfile comment will be found on\n",
      "  the last disk(s) of this archive.\n",
      "unzip:  cannot find zipfile directory in one of archive.zip or\n",
      "        archive.zip.zip, and cannot find archive.zip.ZIP, period.\n"
     ]
    }
   ],
   "source": [
    "!unzip archive.zip"
   ]
  },
  {
   "cell_type": "markdown",
   "metadata": {
    "id": "b2mqJGRpYVx6"
   },
   "source": [
    "## Задание 1 (0.4 балла)\n",
    "\n",
    "Определите:\n",
    "\n",
    "* Число товаров\n",
    "* Среднюю стоимость товара\n",
    "\n",
    "в разрезе категорий (все категории должны быть на английском языке)"
   ]
  },
  {
   "cell_type": "code",
   "execution_count": null,
   "metadata": {
    "id": "FzTvuUNtWYvs"
   },
   "outputs": [],
   "source": []
  },
  {
   "cell_type": "markdown",
   "metadata": {
    "id": "Qwla1I91drgU"
   },
   "source": [
    "## Задание 2 (1,5 балла)\n",
    "\n",
    "Определите для каждого продавца основную категорию их продаж.\n",
    "\n",
    "Отобразите категории по числу продавцов, для которых данная категория основная, а также создайте график, по которому можно выбрать отдельно штат и посмотреть такое же распределение\n",
    "\n"
   ]
  },
  {
   "cell_type": "markdown",
   "metadata": {
    "id": "F5Alu7yBboG2"
   },
   "source": [
    "## Задание 3 (1,5 балл)\n",
    "\n",
    "Покажите процент\n",
    "\n",
    "* суммы покупок в деньгах\n",
    "\n",
    "* суммы покупок в штуках\n",
    "\n",
    "по категории для доставленных заказов, а также разбивку по штатам"
   ]
  },
  {
   "cell_type": "markdown",
   "metadata": {
    "id": "HlePiiebib7W"
   },
   "source": [
    "## Задание 4 (0.6 балла)\n",
    "\n",
    "Визуализируйте зависимость между средним числом покупок и:\n",
    "\n",
    "* числом фотографий товара\n",
    "\n",
    "* кол-во символов в описании товара (аггрегируйте с шагом 20)\n",
    "\n",
    "* кол-во символов в названии (аггрегируйте с шагом 5)"
   ]
  },
  {
   "cell_type": "markdown",
   "metadata": {
    "id": "G76_5kWld8xD"
   },
   "source": [
    "## Задание 5* (1 балл)\n",
    "\n",
    "Имея полученные данные по товарам, чекам и категориям, а также сделав дополнительные расчеты (если необходимо), предположите:\n",
    "\n",
    "1. Продавцов каких категорий необходимо привлекать в маркетплейс?\n",
    "\n",
    "2. Какие категории в каких штатах необходимо развивать?\n",
    "\n",
    "3. Развитие каких категорий не принесут большого эффекта и почему?\n",
    "\n",
    "4. Какие рекомендации можно дать для продавцов, чтобы их товар лучше продавался?"
   ]
  },
  {
   "cell_type": "markdown",
   "metadata": {
    "id": "qcw4MaMnYKuu"
   },
   "source": [
    "## Задание 6 (0.5 балла)\n",
    "\n",
    "Определите средний чек покупки (добавьте разбивку на стоимость самого заказ и стоимость доставки) и среднее число товаров в заказе"
   ]
  },
  {
   "cell_type": "markdown",
   "metadata": {
    "id": "8xia3fPtY7Nz"
   },
   "source": [
    "## Задание 7 (0.2 балла)\n",
    "\n",
    "Определите среднее число покупок на пользователя (обратите внимание на идентификаторы)"
   ]
  },
  {
   "cell_type": "markdown",
   "metadata": {
    "id": "GoZhcGiKj4gX"
   },
   "source": [
    "## Задание 8 (0.2 балла)\n",
    "\n",
    "Отобразите среднюю сумму оплаты по типу оплаты"
   ]
  },
  {
   "cell_type": "markdown",
   "metadata": {
    "id": "RMo-voFDakG9"
   },
   "source": [
    "## Задание 9 (0.4 балла)\n",
    "\n",
    "Обратите внимание на число платежей (payment_installments). Выясните, какая сумма оплаты указана: за целую покупку или только за ее часть?\n",
    "\n",
    "Также покажите средний чек в зависимости от числа оплаты. Есть ли какая-то связь между ними?"
   ]
  },
  {
   "cell_type": "markdown",
   "metadata": {
    "id": "0qfmQzlDW1S6"
   },
   "source": [
    "## Задание 10 (0.4 балла)\n",
    "\n",
    "Визуализируйте зависимость между ценой заказа и ценой доставки по штатам покупки. Есть ли какая-нибудь зависимость и как вы можете ее обосновать?"
   ]
  },
  {
   "cell_type": "markdown",
   "metadata": {
    "id": "kuS3HQ7hXK0H"
   },
   "source": [
    "## Задание 11 (0.4 балла)\n",
    "\n",
    "Выведите график по числу покупок (в разбивке по статусам) и временем покупки (аггрегируйте покупки до дня)"
   ]
  },
  {
   "cell_type": "markdown",
   "metadata": {
    "id": "s9X976jZlNSC"
   },
   "source": [
    "## Задание 12* (1 балл)\n",
    "\n",
    "Используя полученные данные, а также сделав дополнительные вычисления (если необходимо), предположите:\n",
    "\n",
    "1. Есть ли сезонность в покупках на маркетплейсе?\n",
    "\n",
    "2. Есть ли какие-то необъяснимые падение/рост продаж? С чем это может быть связано?"
   ]
  },
  {
   "cell_type": "markdown",
   "metadata": {
    "id": "jC99B-ajXnyZ"
   },
   "source": [
    "## Задание 13 (0.3 балла)\n",
    "\n",
    "Посчитайте CSAT (customer satisfaction - средняя оценка ревью) и отобразите средний CSAT по дням\n",
    "\n"
   ]
  },
  {
   "cell_type": "markdown",
   "metadata": {
    "id": "GgVCaC_amHpJ"
   },
   "source": [
    "## Задание 14 (0.3 балла)\n",
    "\n",
    "Найдите топ-5 лучших и топ-5 худших продавцов по средней оценке и посчитайте их число продаж"
   ]
  },
  {
   "cell_type": "markdown",
   "metadata": {
    "id": "baLiZjiOmTwr"
   },
   "source": [
    "## Задание 15 (0.3 балла)\n",
    "\n",
    "Посмотрите, как быстро отвечают пользователи (сделайте аггреграцию по дням) и влияет ли это на оценку?"
   ]
  },
  {
   "cell_type": "markdown",
   "metadata": {
    "id": "Wp9r35zpui6D"
   },
   "source": [
    "## Задание 16 (0.5 балла)\n",
    "\n",
    "Отобразите распределение оценок для заказов, которые были доставлены вовремя и которые пришли с опозданием. Насколько влияет факт опоздания на оценку?"
   ]
  },
  {
   "cell_type": "markdown",
   "metadata": {
    "id": "peGQZI9sv5F3"
   },
   "source": [
    "## Задание 17* (1,5 балла)\n",
    "\n",
    "Есть ли среди пользователей хейтеры? Определите их и вычислите средний CSAT без их участия"
   ]
  },
  {
   "cell_type": "markdown",
   "metadata": {
    "id": "nXjzKf3Cxa1m"
   },
   "source": [
    "## Задание 18 (0.4 балла)\n",
    "\n",
    "Изобразите зависимость между ценой заказа и числом дней между покупкой и доставкой с разбивкой по признаку \"есть заказ из другого штата\". Есть ли зависимость?"
   ]
  },
  {
   "cell_type": "markdown",
   "metadata": {
    "id": "otHb2D44ZmZV"
   },
   "source": [
    "## Задание 19 (0.6 баллов)\n",
    "\n",
    "Отобразите на карте все точки продавцов (если они находятся в одном месте, то необходимо отметить кол-во)\n",
    "\n",
    "Где больше всего продавцов находится?"
   ]
  },
  {
   "cell_type": "markdown",
   "metadata": {
    "id": "hsdKx1F7ZKqh"
   },
   "source": [
    "## Задание 20 (1,5 балл)\n",
    "\n",
    "Определите топ-5 продавцов, которые чаще всего отсылают свою посылку в другие регионы и визуализируйте их отсылки"
   ]
  },
  {
   "cell_type": "markdown",
   "metadata": {
    "id": "RMpfvF-UxHKf"
   },
   "source": [
    "## Задание 21* (2 балла)\n",
    "\n",
    "Сделайте анимацию по датам с доставкой между продавцами и пользователями"
   ]
  },
  {
   "cell_type": "markdown",
   "metadata": {
    "id": "ldPjOGbIyFYw"
   },
   "source": [
    "## Задание 22* (творческое, отдельно поставим баллы)\n",
    "\n",
    "Проведите дополнительно исследование между параметрами, которые вам интересны и могут быть полезными (обоснуйте, зачем это смотреть). Сделайте выводы"
   ]
  },
  {
   "cell_type": "markdown",
   "metadata": {
    "id": "A4MnvHjmDNQy"
   },
   "source": [
    "## Попугай для ДЗ"
   ]
  },
  {
   "cell_type": "markdown",
   "metadata": {
    "id": "_Do1QwYBEKr6"
   },
   "source": [
    "![](https://upload.wikimedia.org/wikipedia/commons/thumb/c/ca/Rose-ringed_parakeet_%28Psittacula_krameri_manillensis%29.jpg/1024px-Rose-ringed_parakeet_%28Psittacula_krameri_manillensis%29.jpg)"
   ]
  },
  {
   "cell_type": "markdown",
   "metadata": {
    "id": "2aljCpwJEM-z"
   },
   "source": [
    "А это ожереловый попугай (или индийский кольчатый попугай). Этот вид явно выделяет наличие такого колечка на шее. Самый распространенный попугай в мире\n",
    "\n",
    "Они очень хорошо и быстро летают, но ходят максимально неуклюже)\n",
    "\n",
    "В отличии от многих попугаев, для которых человеческая деятельность является вредом и уменьшает их естественный ареал обитания, то как раз для этих птиц человеческая деятельность - это плюс, потому что они находят корм внутри человеческих обществ (не боятся людей, лучше всего приспосабливаются, едят пшеницу). Поговаривают, что в качестве домашних попугаев их держали еще в древней Греции и Риме, а в  средневековой Индии ожереловые попугаи часто были питомцами знатных особ и монархов, причём владение этим попугаем считалось элементом роскоши и престижа"
   ]
  }
 ],
 "metadata": {
  "language_info": {
   "name": "python"
  },
  "orig_nbformat": 4
 },
 "nbformat": 4,
 "nbformat_minor": 2
}
